{
 "cells": [
  {
   "cell_type": "markdown",
   "metadata": {},
   "source": [
    "# Skip-gram word2vec\n",
    "\n",
    "In this notebook, I'll lead you through using TensorFlow to implement the word2vec algorithm using the skip-gram architecture. By implementing this, you'll learn about embedding words for use in natural language processing. This will come in handy when dealing with things like machine translation.\n",
    "\n",
    "## Readings\n",
    "\n",
    "Here are the resources I used to build this notebook. I suggest reading these either beforehand or while you're working on this material.\n",
    "\n",
    "* A really good [conceptual overview](http://mccormickml.com/2016/04/19/word2vec-tutorial-the-skip-gram-model/) of word2vec from Chris McCormick \n",
    "* [First word2vec paper](https://arxiv.org/pdf/1301.3781.pdf) from Mikolov et al.\n",
    "* [NIPS paper](http://papers.nips.cc/paper/5021-distributed-representations-of-words-and-phrases-and-their-compositionality.pdf) with improvements for word2vec also from Mikolov et al.\n",
    "* An [implementation of word2vec](http://www.thushv.com/natural_language_processing/word2vec-part-1-nlp-with-deep-learning-with-tensorflow-skip-gram/) from Thushan Ganegedara\n",
    "* TensorFlow [word2vec tutorial](https://www.tensorflow.org/tutorials/word2vec)\n",
    "\n",
    "## Word embeddings\n",
    "\n",
    "When you're dealing with words in text, you end up with tens of thousands of classes to predict, one for each word. Trying to one-hot encode these words is massively inefficient, you'll have one element set to 1 and the other 50,000 set to 0. The matrix multiplication going into the first hidden layer will have almost all of the resulting values be zero. This a huge waste of computation. \n",
    "\n",
    "![one-hot encodings](assets/one_hot_encoding.png)\n",
    "\n",
    "To solve this problem and greatly increase the efficiency of our networks, we use what are called embeddings. Embeddings are just a fully connected layer like you've seen before. We call this layer the embedding layer and the weights are embedding weights. We skip the multiplication into the embedding layer by instead directly grabbing the hidden layer values from the weight matrix. We can do this because the multiplication of a one-hot encoded vector with a matrix returns the row of the matrix corresponding the index of the \"on\" input unit.\n",
    "\n",
    "![lookup](assets/lookup_matrix.png)\n",
    "\n",
    "Instead of doing the matrix multiplication, we use the weight matrix as a lookup table. We encode the words as integers, for example \"heart\" is encoded as 958, \"mind\" as 18094. Then to get hidden layer values for \"heart\", you just take the 958th row of the embedding matrix. This process is called an **embedding lookup** and the number of hidden units is the **embedding dimension**.\n",
    "\n",
    "<img src='assets/tokenize_lookup.png' width=500>\n",
    " \n",
    "There is nothing magical going on here. The embedding lookup table is just a weight matrix. The embedding layer is just a hidden layer. The lookup is just a shortcut for the matrix multiplication. The lookup table is trained just like any weight matrix as well.\n",
    "\n",
    "Embeddings aren't only used for words of course. You can use them for any model where you have a massive number of classes. A particular type of model called **Word2Vec** uses the embedding layer to find vector representations of words that contain semantic meaning.\n",
    "\n"
   ]
  },
  {
   "cell_type": "markdown",
   "metadata": {},
   "source": [
    "## Word2Vec\n",
    "\n",
    "The word2vec algorithm finds much more efficient representations by finding vectors that represent the words. These vectors also contain semantic information about the words. Words that show up in similar contexts, such as \"black\", \"white\", and \"red\" will have vectors near each other. There are two architectures for implementing word2vec, CBOW (Continuous Bag-Of-Words) and Skip-gram.\n",
    "\n",
    "<img src=\"assets/word2vec_architectures.png\" width=\"500\">\n",
    "\n",
    "In this implementation, we'll be using the skip-gram architecture because it performs better than CBOW. Here, we pass in a word and try to predict the words surrounding it in the text. In this way, we can train the network to learn representations for words that show up in similar contexts.\n",
    "\n",
    "First up, importing packages."
   ]
  },
  {
   "cell_type": "code",
   "execution_count": 1,
   "metadata": {},
   "outputs": [],
   "source": [
    "import time\n",
    "\n",
    "import numpy as np\n",
    "import tensorflow as tf\n",
    "\n",
    "import utils"
   ]
  },
  {
   "cell_type": "markdown",
   "metadata": {},
   "source": [
    "Load the [text8 dataset](http://mattmahoney.net/dc/textdata.html), a file of cleaned up Wikipedia articles from Matt Mahoney. The next cell will download the data set to the `data` folder. Then you can extract it and delete the archive file to save storage space."
   ]
  },
  {
   "cell_type": "code",
   "execution_count": 2,
   "metadata": {},
   "outputs": [],
   "source": [
    "from urllib.request import urlretrieve\n",
    "from os.path import isfile, isdir\n",
    "from tqdm import tqdm\n",
    "import zipfile\n",
    "\n",
    "dataset_folder_path = 'data'\n",
    "dataset_filename = 'text8.zip'\n",
    "dataset_name = 'Text8 Dataset'\n",
    "\n",
    "class DLProgress(tqdm):\n",
    "    last_block = 0\n",
    "\n",
    "    def hook(self, block_num=1, block_size=1, total_size=None):\n",
    "        self.total = total_size\n",
    "        self.update((block_num - self.last_block) * block_size)\n",
    "        self.last_block = block_num\n",
    "\n",
    "if not isfile(dataset_filename):\n",
    "    with DLProgress(unit='B', unit_scale=True, miniters=1, desc=dataset_name) as pbar:\n",
    "        urlretrieve(\n",
    "            'http://mattmahoney.net/dc/text8.zip',\n",
    "            dataset_filename,\n",
    "            pbar.hook)\n",
    "\n",
    "if not isdir(dataset_folder_path):\n",
    "    with zipfile.ZipFile(dataset_filename) as zip_ref:\n",
    "        zip_ref.extractall(dataset_folder_path)\n",
    "        \n",
    "with open('data/text8') as f:\n",
    "    text = f.read()"
   ]
  },
  {
   "cell_type": "markdown",
   "metadata": {},
   "source": [
    "## Preprocessing\n",
    "\n",
    "Here I'm fixing up the text to make training easier. This comes from the `utils` module I wrote. The `preprocess` function coverts any punctuation into tokens, so a period is changed to ` <PERIOD> `. In this data set, there aren't any periods, but it will help in other NLP problems. I'm also removing all words that show up five or fewer times in the dataset. This will greatly reduce issues due to noise in the data and improve the quality of the vector representations. If you want to write your own functions for this stuff, go for it."
   ]
  },
  {
   "cell_type": "code",
   "execution_count": 3,
   "metadata": {},
   "outputs": [
    {
     "name": "stdout",
     "output_type": "stream",
     "text": [
      "['anarchism', 'originated', 'as', 'a', 'term', 'of', 'abuse', 'first', 'used', 'against', 'early', 'working', 'class', 'radicals', 'including', 'the', 'diggers', 'of', 'the', 'english', 'revolution', 'and', 'the', 'sans', 'culottes', 'of', 'the', 'french', 'revolution', 'whilst']\n"
     ]
    }
   ],
   "source": [
    "words = utils.preprocess(text)\n",
    "print(words[:30])"
   ]
  },
  {
   "cell_type": "code",
   "execution_count": 4,
   "metadata": {},
   "outputs": [
    {
     "name": "stdout",
     "output_type": "stream",
     "text": [
      "Total words: 16680599\n",
      "Unique words: 63641\n"
     ]
    }
   ],
   "source": [
    "print(\"Total words: {}\".format(len(words)))\n",
    "print(\"Unique words: {}\".format(len(set(words))))"
   ]
  },
  {
   "cell_type": "markdown",
   "metadata": {},
   "source": [
    "And here I'm creating dictionaries to convert words to integers and backwards, integers to words. The integers are assigned in descending frequency order, so the most frequent word (\"the\") is given the integer 0 and the next most frequent is 1 and so on. The words are converted to integers and stored in the list `int_words`."
   ]
  },
  {
   "cell_type": "code",
   "execution_count": 5,
   "metadata": {},
   "outputs": [],
   "source": [
    "vocab_to_int, int_to_vocab = utils.create_lookup_tables(words)\n",
    "int_words = [vocab_to_int[word] for word in words]"
   ]
  },
  {
   "cell_type": "code",
   "execution_count": 6,
   "metadata": {},
   "outputs": [
    {
     "name": "stdout",
     "output_type": "stream",
     "text": [
      "['the', 'of', 'and', 'one', 'in', 'a', 'to', 'zero', 'nine', 'two', 'is', 'as', 'eight', 'for', 's', 'five', 'three', 'was', 'by', 'that', 'four', 'six', 'seven', 'with', 'on', 'are', 'it', 'from', 'or', 'his']\n",
      "[5233, 3083, 11, 5, 194, 1, 3134, 45, 58, 155, 127, 741, 476, 10574, 133, 0, 27804, 1, 0, 102, 854, 2, 0, 15131, 63621, 1, 0, 150, 854, 3582]\n"
     ]
    }
   ],
   "source": [
    "print([int_to_vocab[i] for i in range(30)])\n",
    "print([int_words[i] for i in range(30)])"
   ]
  },
  {
   "cell_type": "markdown",
   "metadata": {},
   "source": [
    "## Subsampling\n",
    "\n",
    "Words that show up often such as \"the\", \"of\", and \"for\" don't provide much context to the nearby words. If we discard some of them, we can remove some of the noise from our data and in return get faster training and better representations. This process is called subsampling by Mikolov. For each word $w_i$ in the training set, we'll discard it with probability given by \n",
    "\n",
    "$$ P(w_i) = 1 - \\sqrt{\\frac{t}{f(w_i)}} $$\n",
    "\n",
    "where $t$ is a threshold parameter and $f(w_i)$ is the frequency of word $w_i$ in the total dataset.\n",
    "\n",
    "I'm going to leave this up to you as an exercise. This is more of a programming challenge, than about deep learning specifically. But, being able to prepare your data for your network is an important skill to have. Check out my solution to see how I did it.\n",
    "\n",
    "> **Exercise:** Implement subsampling for the words in `int_words`. That is, go through `int_words` and discard each word given the probablility $P(w_i)$ shown above. Note that $P(w_i)$ is the probability that a word is discarded. Assign the subsampled data to `train_words`."
   ]
  },
  {
   "cell_type": "code",
   "execution_count": 7,
   "metadata": {},
   "outputs": [],
   "source": [
    "## Your code here\n",
    "from collections import Counter\n",
    "import random\n",
    "\n",
    "threshold = 1e-5\n",
    "word_counts = Counter(int_words)\n",
    "total_count = len(int_words)\n",
    "p_drop = {word: 1 - np.sqrt(threshold/(count/total_count)) for word, count in word_counts.items()}\n",
    "\n",
    "# The final subsampled word list\n",
    "train_words = [word for word in int_words if random.random() < (1 - p_drop[word])]"
   ]
  },
  {
   "cell_type": "markdown",
   "metadata": {},
   "source": [
    "## Making batches"
   ]
  },
  {
   "cell_type": "markdown",
   "metadata": {},
   "source": [
    "Now that our data is in good shape, we need to get it into the proper form to pass it into our network. With the skip-gram architecture, for each word in the text, we want to grab all the words in a window around that word, with size $C$. \n",
    "\n",
    "From [Mikolov et al.](https://arxiv.org/pdf/1301.3781.pdf): \n",
    "\n",
    "\"Since the more distant words are usually less related to the current word than those close to it, we give less weight to the distant words by sampling less from those words in our training examples... If we choose $C = 5$, for each training word we will select randomly a number $R$ in range $< 1; C >$, and then use $R$ words from history and $R$ words from the future of the current word as correct labels.\"\n",
    "\n",
    "> **Exercise:** Implement a function `get_target` that receives a list of words, an index, and a window size, then returns a list of words in the window around the index. Make sure to use the algorithm described above, where you choose a random number of words from the window."
   ]
  },
  {
   "cell_type": "code",
   "execution_count": 8,
   "metadata": {},
   "outputs": [],
   "source": [
    "def get_target(words, idx, window_size=5):\n",
    "    ''' Get a list of words in a window around an index. '''\n",
    "    \n",
    "    # Your code here\n",
    "    size = random.randint(1, window_size+1)\n",
    "    start = idx - size if (idx - size) > 0 else 0\n",
    "    stop = idx + size if idx + size < len(words) else len(words)\n",
    "    target_words = set(words[start:idx] + words[idx+1:stop+1])\n",
    "    \n",
    "    return list(target_words)"
   ]
  },
  {
   "cell_type": "markdown",
   "metadata": {},
   "source": [
    "Here's a function that returns batches for our network. The idea is that it grabs `batch_size` words from a words list. Then for each of those words, it gets the target words in the window. I haven't found a way to pass in a random number of target words and get it to work with the architecture, so I make one row per input-target pair. This is a generator function by the way, helps save memory."
   ]
  },
  {
   "cell_type": "code",
   "execution_count": 9,
   "metadata": {},
   "outputs": [],
   "source": [
    "def get_batches(words, batch_size, window_size=5):\n",
    "    ''' Create a generator of word batches as a tuple (inputs, targets) '''\n",
    "    \n",
    "    n_batches = len(words)//batch_size\n",
    "    \n",
    "    # only full batches\n",
    "    words = words[:n_batches*batch_size]\n",
    "    \n",
    "    for idx in range(0, len(words), batch_size):\n",
    "        x, y = [], []\n",
    "        batch = words[idx:idx+batch_size]\n",
    "        for ii in range(len(batch)):\n",
    "            batch_x = batch[ii]\n",
    "            batch_y = get_target(batch, ii, window_size)\n",
    "            y.extend(batch_y)\n",
    "            x.extend([batch_x]*len(batch_y))\n",
    "        yield x, y\n",
    "    "
   ]
  },
  {
   "cell_type": "markdown",
   "metadata": {},
   "source": [
    "## Building the graph\n",
    "\n",
    "From [Chris McCormick's blog](http://mccormickml.com/2016/04/19/word2vec-tutorial-the-skip-gram-model/), we can see the general structure of our network.\n",
    "![embedding_network](./assets/skip_gram_net_arch.png)\n",
    "\n",
    "The input words are passed in as integers. This will go into a hidden layer of linear units, then into a softmax layer. We'll use the softmax layer to make a prediction like normal.\n",
    "\n",
    "The idea here is to train the hidden layer weight matrix to find efficient representations for our words. We can discard the softmax layer becuase we don't really care about making predictions with this network. We just want the embedding matrix so we can use it in other networks we build from the dataset.\n",
    "\n",
    "I'm going to have you build the graph in stages now. First off, creating the `inputs` and `labels` placeholders like normal.\n",
    "\n",
    "> **Exercise:** Assign `inputs` and `labels` using `tf.placeholder`. We're going to be passing in integers, so set the data types to `tf.int32`. The batches we're passing in will have varying sizes, so set the batch sizes to [`None`]. To make things work later, you'll need to set the second dimension of `labels` to `None` or `1`."
   ]
  },
  {
   "cell_type": "code",
   "execution_count": 10,
   "metadata": {},
   "outputs": [],
   "source": [
    "train_graph = tf.Graph()\n",
    "with train_graph.as_default():\n",
    "    inputs = tf.placeholder(tf.int32, [None], name='inputs')\n",
    "    labels = tf.placeholder(tf.int32, [None, None], name='labels')"
   ]
  },
  {
   "cell_type": "markdown",
   "metadata": {},
   "source": [
    "## Embedding\n",
    "\n"
   ]
  },
  {
   "cell_type": "markdown",
   "metadata": {
    "collapsed": true
   },
   "source": [
    "The embedding matrix has a size of the number of words by the number of units in the hidden layer. So, if you have 10,000 words and 300 hidden units, the matrix will have size $10,000 \\times 300$. Remember that we're using tokenized data for our inputs, usually as integers, where the number of tokens is the number of words in our vocabulary.\n",
    "\n",
    "\n",
    "> **Exercise:** Tensorflow provides a convenient function [`tf.nn.embedding_lookup`](https://www.tensorflow.org/api_docs/python/tf/nn/embedding_lookup) that does this lookup for us. You pass in the embedding matrix and a tensor of integers, then it returns rows in the matrix corresponding to those integers. Below, set the number of embedding features you'll use (200 is a good start), create the embedding matrix variable, and use `tf.nn.embedding_lookup` to get the embedding tensors. For the embedding matrix, I suggest you initialize it with a uniform random numbers between -1 and 1 using [tf.random_uniform](https://www.tensorflow.org/api_docs/python/tf/random_uniform)."
   ]
  },
  {
   "cell_type": "code",
   "execution_count": 11,
   "metadata": {},
   "outputs": [],
   "source": [
    "n_vocab = len(int_to_vocab)\n",
    "n_embedding = 200 # Number of embedding features \n",
    "with train_graph.as_default():\n",
    "    # create embedding weight matrix here\n",
    "    embedding = tf.Variable(tf.random_uniform((n_vocab, n_embedding), -1, 1))\n",
    "    # use tf.nn.embedding_lookup to get the hidden layer output\n",
    "    embed = tf.nn.embedding_lookup(embedding, inputs)"
   ]
  },
  {
   "cell_type": "markdown",
   "metadata": {},
   "source": [
    "## Negative sampling\n",
    "\n"
   ]
  },
  {
   "cell_type": "markdown",
   "metadata": {},
   "source": [
    "For every example we give the network, we train it using the output from the softmax layer. That means for each input, we're making very small changes to millions of weights even though we only have one true example. This makes training the network very inefficient. We can approximate the loss from the softmax layer by only updating a small subset of all the weights at once. We'll update the weights for the correct label, but only a small number of incorrect labels. This is called [\"negative sampling\"](http://papers.nips.cc/paper/5021-distributed-representations-of-words-and-phrases-and-their-compositionality.pdf). Tensorflow has a convenient function to do this, [`tf.nn.sampled_softmax_loss`](https://www.tensorflow.org/api_docs/python/tf/nn/sampled_softmax_loss).\n",
    "\n",
    "> **Exercise:** Below, create weights and biases for the softmax layer. Then, use [`tf.nn.sampled_softmax_loss`](https://www.tensorflow.org/api_docs/python/tf/nn/sampled_softmax_loss) to calculate the loss. Be sure to read the documentation to figure out how it works."
   ]
  },
  {
   "cell_type": "code",
   "execution_count": 12,
   "metadata": {},
   "outputs": [],
   "source": [
    "# Number of negative labels to sample\n",
    "n_sampled = 100\n",
    "with train_graph.as_default():\n",
    "    # create softmax weight matrix here\n",
    "    softmax_w = tf.Variable(tf.truncated_normal((n_vocab, n_embedding), stddev=0.1))\n",
    "    # create softmax biases here\n",
    "    softmax_b = tf.Variable(tf.zeros(n_vocab))\n",
    "     \n",
    "    # Calculate the loss using negative sampling\n",
    "    loss = tf.nn.sampled_softmax_loss(softmax_w, softmax_b, labels, embed, n_sampled, n_vocab)\n",
    "    \n",
    "    cost = tf.reduce_mean(loss)\n",
    "    optimizer = tf.train.AdamOptimizer().minimize(cost)"
   ]
  },
  {
   "cell_type": "markdown",
   "metadata": {},
   "source": [
    "## Validation\n",
    "\n",
    "This code is from Thushan Ganegedara's implementation. Here we're going to choose a few common words and few uncommon words. Then, we'll print out the closest words to them. It's a nice way to check that our embedding table is grouping together words with similar semantic meanings."
   ]
  },
  {
   "cell_type": "code",
   "execution_count": 13,
   "metadata": {},
   "outputs": [],
   "source": [
    "with train_graph.as_default():\n",
    "    ## From Thushan Ganegedara's implementation\n",
    "    valid_size = 16 # Random set of words to evaluate similarity on.\n",
    "    valid_window = 100\n",
    "    # pick 8 samples from (0,100) and (1000,1100) each ranges. lower id implies more frequent \n",
    "    valid_examples = np.array(random.sample(range(valid_window), valid_size//2))\n",
    "    valid_examples = np.append(valid_examples, \n",
    "                               random.sample(range(1000,1000+valid_window), valid_size//2))\n",
    "\n",
    "    valid_dataset = tf.constant(valid_examples, dtype=tf.int32)\n",
    "    \n",
    "    # We use the cosine distance:\n",
    "    norm = tf.sqrt(tf.reduce_sum(tf.square(embedding), 1, keep_dims=True))\n",
    "    normalized_embedding = embedding / norm\n",
    "    valid_embedding = tf.nn.embedding_lookup(normalized_embedding, valid_dataset)\n",
    "    similarity = tf.matmul(valid_embedding, tf.transpose(normalized_embedding))"
   ]
  },
  {
   "cell_type": "code",
   "execution_count": 14,
   "metadata": {},
   "outputs": [
    {
     "name": "stdout",
     "output_type": "stream",
     "text": [
      "mkdir: checkpoints: File exists\r\n"
     ]
    }
   ],
   "source": [
    "# If the checkpoints directory doesn't exist:\n",
    "!mkdir checkpoints"
   ]
  },
  {
   "cell_type": "markdown",
   "metadata": {},
   "source": [
    "## Training\n",
    "\n",
    "Below is the code to train the network. Every 100 batches it reports the training loss. Every 1000 batches, it'll print out the validation words."
   ]
  },
  {
   "cell_type": "code",
   "execution_count": 15,
   "metadata": {},
   "outputs": [
    {
     "name": "stdout",
     "output_type": "stream",
     "text": [
      "Epoch 1/10 Iteration: 100 Avg. Training loss: 5.6908 0.3510 sec/batch\n",
      "Epoch 1/10 Iteration: 200 Avg. Training loss: 5.6214 0.3528 sec/batch\n",
      "Epoch 1/10 Iteration: 300 Avg. Training loss: 5.4680 0.3413 sec/batch\n",
      "Epoch 1/10 Iteration: 400 Avg. Training loss: 5.6054 0.3440 sec/batch\n",
      "Epoch 1/10 Iteration: 500 Avg. Training loss: 5.5393 0.3450 sec/batch\n",
      "Epoch 1/10 Iteration: 600 Avg. Training loss: 5.5416 0.3414 sec/batch\n",
      "Epoch 1/10 Iteration: 700 Avg. Training loss: 5.5592 0.3594 sec/batch\n",
      "Epoch 1/10 Iteration: 800 Avg. Training loss: 5.5807 0.3501 sec/batch\n",
      "Epoch 1/10 Iteration: 900 Avg. Training loss: 5.4809 0.3517 sec/batch\n",
      "Epoch 1/10 Iteration: 1000 Avg. Training loss: 5.4203 0.3576 sec/batch\n",
      "Nearest to four: woolfson, consecration, centrum, poodle, hiroyuki, ade, noxious, medicinal,\n",
      "Nearest to were: doubts, bene, supermarkets, shippers, eros, pedigree, or, vestments,\n",
      "Nearest to he: lorien, gaulish, gabby, ingrained, suffix, appropriateness, ventricles, spaces,\n",
      "Nearest to world: nicola, strategists, kneaded, replaced, contradistinction, crouch, ui, immaculate,\n",
      "Nearest to an: em, breadth, arginine, flirtation, freehold, subjectively, kraftwerk, recent,\n",
      "Nearest to many: litha, patently, infected, nia, philosophically, omaha, penchant, shut,\n",
      "Nearest to state: statutory, edmunds, instigate, anhalt, porco, yacc, repulse, anachronisms,\n",
      "Nearest to these: lines, monarchist, forehand, fontana, fv, vladislav, confided, scholarly,\n",
      "Nearest to rise: phyllis, lasalle, entrants, manchuria, forbidding, hodgson, novus, pogroms,\n",
      "Nearest to freedom: mistress, valentinius, strange, noblest, brentwood, eugenie, identifiable, wolff,\n",
      "Nearest to square: lines, lyr, disaffection, pacing, legislatures, wept, teaspoon, ventral,\n",
      "Nearest to institute: iraqis, pieces, remittances, suburb, neurotransmitter, garibaldi, donati, krzy,\n",
      "Nearest to behind: gba, snubbed, thinking, reflections, chelmsford, advertised, alemanni, toomer,\n",
      "Nearest to troops: incrementally, urbanised, idolatrous, rooftop, indiscernibles, comiskey, debasement, captors,\n",
      "Nearest to issue: qquad, refund, garnering, public, catches, amarantine, manmade, hardie,\n",
      "Nearest to numerous: ange, officiel, colonialists, lingual, beholder, reel, incognito, module,\n",
      "Epoch 1/10 Iteration: 1100 Avg. Training loss: 5.4796 0.3642 sec/batch\n",
      "Epoch 1/10 Iteration: 1200 Avg. Training loss: 5.4105 0.3536 sec/batch\n",
      "Epoch 1/10 Iteration: 1300 Avg. Training loss: 5.3179 0.3650 sec/batch\n",
      "Epoch 1/10 Iteration: 1400 Avg. Training loss: 5.2332 0.3710 sec/batch\n",
      "Epoch 1/10 Iteration: 1500 Avg. Training loss: 5.1855 0.3349 sec/batch\n",
      "Epoch 1/10 Iteration: 1600 Avg. Training loss: 5.1646 0.3356 sec/batch\n",
      "Epoch 1/10 Iteration: 1700 Avg. Training loss: 5.0624 0.3288 sec/batch\n",
      "Epoch 1/10 Iteration: 1800 Avg. Training loss: 5.0346 0.3319 sec/batch\n",
      "Epoch 1/10 Iteration: 1900 Avg. Training loss: 4.9990 0.3326 sec/batch\n",
      "Epoch 1/10 Iteration: 2000 Avg. Training loss: 4.9548 0.3279 sec/batch\n",
      "Nearest to four: fact, poodle, woolfson, centrum, austro, ethics, medicinal, consecration,\n",
      "Nearest to were: doubts, bene, or, supermarkets, buried, cardinal, senior, mentioned,\n",
      "Nearest to he: gaulish, students, lorien, spaces, suffix, appropriateness, iso, gabby,\n",
      "Nearest to world: replaced, reduced, member, nicola, shows, strategists, protestantism, morally,\n",
      "Nearest to an: em, recent, kraftwerk, rejection, transcription, descended, theories, clear,\n",
      "Nearest to many: exists, spend, litha, voltage, infected, nia, philosophically, spatial,\n",
      "Nearest to state: statutory, small, per, anhalt, porco, suburban, edmunds, engine,\n",
      "Nearest to these: lines, forehand, ethical, scholarly, uses, misplaced, desire, fv,\n",
      "Nearest to rise: phyllis, hodgson, entrants, clarify, manchuria, ac, forbidding, grey,\n",
      "Nearest to freedom: mistress, jacobs, identifiable, much, strange, counting, neologisms, chelmno,\n",
      "Nearest to square: lines, legislatures, pacing, lyr, consumer, gaul, wept, teaspoon,\n",
      "Nearest to institute: pieces, suburb, iraqis, apparently, remittances, neurotransmitter, krzy, physically,\n",
      "Nearest to behind: gba, thinking, freezing, make, babylonian, alemanni, reflections, green,\n",
      "Nearest to troops: urbanised, incrementally, idolatrous, comiskey, naturalism, debasement, curriculum, johnnie,\n",
      "Nearest to issue: qquad, public, average, damage, refund, garnering, hardie, kitchener,\n",
      "Nearest to numerous: ange, never, officiel, colonialists, rising, module, resulted, numbers,\n",
      "Epoch 1/10 Iteration: 2100 Avg. Training loss: 4.9237 0.3349 sec/batch\n",
      "Epoch 1/10 Iteration: 2200 Avg. Training loss: 4.8978 0.3339 sec/batch\n",
      "Epoch 1/10 Iteration: 2300 Avg. Training loss: 4.8935 0.3281 sec/batch\n",
      "Epoch 1/10 Iteration: 2400 Avg. Training loss: 4.8577 0.3331 sec/batch\n",
      "Epoch 1/10 Iteration: 2500 Avg. Training loss: 4.7932 0.3283 sec/batch\n",
      "Epoch 1/10 Iteration: 2600 Avg. Training loss: 4.7896 0.3340 sec/batch\n",
      "Epoch 1/10 Iteration: 2700 Avg. Training loss: 4.7743 0.3317 sec/batch\n",
      "Epoch 1/10 Iteration: 2800 Avg. Training loss: 4.8009 0.3261 sec/batch\n",
      "Epoch 1/10 Iteration: 2900 Avg. Training loss: 4.7825 0.3294 sec/batch\n",
      "Epoch 1/10 Iteration: 3000 Avg. Training loss: 4.7963 0.3296 sec/batch\n",
      "Nearest to four: consecration, woolfson, puritans, ade, policy, poodle, breakthrough, zu,\n",
      "Nearest to were: doubts, bene, or, supermarkets, buried, cardinal, senior, me,\n",
      "Nearest to he: gaulish, students, gabby, appropriateness, traces, resolved, spaces, richards,\n",
      "Nearest to world: protestantism, replaced, reduced, whaling, surveys, strategists, nicola, shows,\n",
      "Nearest to an: em, kraftwerk, rejection, recent, breadth, theories, transcription, immensely,\n",
      "Nearest to many: philosophically, litha, spend, parker, exists, infected, voltage, spatial,\n",
      "Nearest to state: statutory, anhalt, instigate, outlaw, per, edmunds, small, coins,\n",
      "Nearest to these: lines, scholarly, misplaced, forehand, ethical, monarchist, fv, desire,\n",
      "Nearest to rise: phyllis, entrants, clarify, hodgson, manchuria, forbidding, ac, pogroms,\n",
      "Nearest to freedom: mistress, identifiable, much, disadvantage, strange, mediterranean, jacobs, plato,\n",
      "Nearest to square: lines, legislatures, pacing, wept, disaffection, lyr, gaul, novice,\n",
      "Nearest to institute: pieces, iraqis, remittances, suburb, physically, scribner, krzy, neurotransmitter,\n",
      "Nearest to behind: thinking, gba, reflections, freezing, advertised, babylonian, alemanni, dusty,\n",
      "Nearest to troops: urbanised, incrementally, naturalism, idolatrous, rooftop, comiskey, debasement, fraction,\n",
      "Nearest to issue: qquad, garnering, catches, public, refund, correlation, shortages, kitchener,\n",
      "Nearest to numerous: ange, colonialists, officiel, reel, vehicular, ds, never, alta,\n",
      "Epoch 1/10 Iteration: 3100 Avg. Training loss: 4.7903 0.3333 sec/batch\n",
      "Epoch 1/10 Iteration: 3200 Avg. Training loss: 4.7702 0.3650 sec/batch\n",
      "Epoch 1/10 Iteration: 3300 Avg. Training loss: 4.7269 0.3698 sec/batch\n",
      "Epoch 1/10 Iteration: 3400 Avg. Training loss: 4.7298 0.3354 sec/batch\n",
      "Epoch 1/10 Iteration: 3500 Avg. Training loss: 4.7364 18.2067 sec/batch\n",
      "Epoch 1/10 Iteration: 3600 Avg. Training loss: 4.7020 9.1884 sec/batch\n",
      "Epoch 1/10 Iteration: 3700 Avg. Training loss: 4.6937 0.5442 sec/batch\n",
      "Epoch 1/10 Iteration: 3800 Avg. Training loss: 4.7256 5.8363 sec/batch\n",
      "Epoch 1/10 Iteration: 3900 Avg. Training loss: 4.6971 8.2230 sec/batch\n",
      "Epoch 1/10 Iteration: 4000 Avg. Training loss: 4.6627 9.3076 sec/batch\n",
      "Nearest to four: five, mehmet, six, woolfson, consecration, ade, bruins, puritans,\n",
      "Nearest to were: doubts, bene, supermarkets, senior, or, ultimately, shippers, vestments,\n",
      "Nearest to he: gaulish, appropriateness, gabby, students, richards, ingrained, rabbi, deceit,\n",
      "Nearest to world: nicola, strategists, whaling, protestantism, replaced, surveys, eero, kneaded,\n",
      "Nearest to an: em, breadth, rejection, immensely, recent, kraftwerk, freehold, theories,\n",
      "Nearest to many: philosophically, litha, exists, infected, parker, excavated, theocratic, stun,\n",
      "Nearest to state: statutory, edmunds, anhalt, instigate, repulse, shenandoah, coins, anachronisms,\n",
      "Nearest to these: lines, monarchist, misplaced, scholarly, ethical, forehand, fv, confided,\n",
      "Nearest to rise: phyllis, manchuria, clarify, entrants, pogroms, forbidding, lasalle, hodgson,\n",
      "Nearest to freedom: mistress, identifiable, grunts, eugenie, noblest, thackeray, pudding, much,\n",
      "Nearest to square: lines, disaffection, legislatures, wept, pacing, adverts, ventral, gaul,\n",
      "Nearest to institute: iraqis, pieces, remittances, suburb, masculinity, mandating, neurotransmitter, algerian,\n",
      "Nearest to behind: thinking, gba, reflections, freezing, advertised, snubbed, babylonian, chelmsford,\n",
      "Nearest to troops: urbanised, incrementally, idolatrous, rooftop, fears, naturalism, cta, huey,\n",
      "Nearest to issue: qquad, garnering, refund, catches, shortages, handles, public, correlation,\n",
      "Nearest to numerous: ange, colonialists, officiel, vehicular, mehr, reel, never, alta,\n"
     ]
    },
    {
     "name": "stdout",
     "output_type": "stream",
     "text": [
      "Epoch 1/10 Iteration: 4100 Avg. Training loss: 4.6601 5.5984 sec/batch\n",
      "Epoch 1/10 Iteration: 4200 Avg. Training loss: 4.6834 7.8007 sec/batch\n",
      "Epoch 1/10 Iteration: 4300 Avg. Training loss: 4.5845 6.9683 sec/batch\n",
      "Epoch 1/10 Iteration: 4400 Avg. Training loss: 4.6378 6.1987 sec/batch\n",
      "Epoch 1/10 Iteration: 4500 Avg. Training loss: 4.6246 5.5532 sec/batch\n",
      "Epoch 1/10 Iteration: 4600 Avg. Training loss: 4.6249 8.9040 sec/batch\n",
      "Epoch 2/10 Iteration: 4700 Avg. Training loss: 4.5997 6.6754 sec/batch\n",
      "Epoch 2/10 Iteration: 4800 Avg. Training loss: 4.5098 3.9306 sec/batch\n",
      "Epoch 2/10 Iteration: 4900 Avg. Training loss: 4.5020 6.0062 sec/batch\n",
      "Epoch 2/10 Iteration: 5000 Avg. Training loss: 4.5150 5.0051 sec/batch\n",
      "Nearest to four: five, six, mehmet, nine, consecration, woolfson, ade, bruins,\n",
      "Nearest to were: doubts, bene, or, supermarkets, ultimately, senior, ocampo, shippers,\n",
      "Nearest to he: rabbi, gaulish, richards, gabby, appropriateness, zurich, exile, elder,\n",
      "Nearest to world: nicola, knowles, whaling, intuitionism, calgary, strategists, eero, kneaded,\n",
      "Nearest to an: em, breadth, kraftwerk, theories, immensely, rejection, recent, arginine,\n",
      "Nearest to many: philosophically, litha, exists, theocratic, infected, excavated, interlude, touchstone,\n",
      "Nearest to state: statutory, anhalt, edmunds, repulse, instigate, hsuan, largest, shenandoah,\n",
      "Nearest to these: lines, misplaced, ethical, scholarly, monarchist, uses, tidy, forehand,\n",
      "Nearest to rise: manchuria, entrants, pogroms, clarify, lasalle, phyllis, forbidding, cravings,\n",
      "Nearest to freedom: mistress, thackeray, noblest, grunts, brentwood, eugenie, identifiable, pudding,\n",
      "Nearest to square: lines, disaffection, legislatures, wept, adverts, pacing, dispatching, ventral,\n",
      "Nearest to institute: iraqis, remittances, pieces, mandating, masculinity, suburb, sds, algerian,\n",
      "Nearest to behind: thinking, gba, freezing, alibi, reflections, alemanni, snubbed, toomer,\n",
      "Nearest to troops: incrementally, urbanised, idolatrous, fears, cuzco, rooftop, cta, federations,\n",
      "Nearest to issue: qquad, refund, catches, garnering, shortages, androids, danelaw, hardie,\n",
      "Nearest to numerous: ange, vehicular, mehr, colonialists, lingual, reel, officiel, alta,\n",
      "Epoch 2/10 Iteration: 5100 Avg. Training loss: 4.4956 5.5145 sec/batch\n",
      "Epoch 2/10 Iteration: 5200 Avg. Training loss: 4.5030 5.9094 sec/batch\n",
      "Epoch 2/10 Iteration: 5300 Avg. Training loss: 4.4357 7.7618 sec/batch\n",
      "Epoch 2/10 Iteration: 5400 Avg. Training loss: 4.5363 9.0269 sec/batch\n",
      "Epoch 2/10 Iteration: 5500 Avg. Training loss: 4.4995 8.7450 sec/batch\n",
      "Epoch 2/10 Iteration: 5600 Avg. Training loss: 4.4612 5.1604 sec/batch\n",
      "Epoch 2/10 Iteration: 5700 Avg. Training loss: 4.4746 7.5871 sec/batch\n",
      "Epoch 2/10 Iteration: 5800 Avg. Training loss: 4.3983 8.0644 sec/batch\n",
      "Epoch 2/10 Iteration: 5900 Avg. Training loss: 4.4477 5.0093 sec/batch\n",
      "Epoch 2/10 Iteration: 6000 Avg. Training loss: 4.4246 3.8710 sec/batch\n",
      "Nearest to four: five, six, unpaved, woolfson, mehmet, consecration, bruins, gottfried,\n",
      "Nearest to were: doubts, vestments, bene, senior, ultimately, supermarkets, shippers, or,\n",
      "Nearest to he: gaulish, rabbi, gabby, richards, appropriateness, elder, exile, zurich,\n",
      "Nearest to world: calgary, knowles, nicola, whaling, intuitionism, sideshow, eero, ywca,\n",
      "Nearest to an: em, breadth, kraftwerk, marked, recent, between, invulnerability, rejection,\n",
      "Nearest to many: philosophically, litha, theocratic, exists, infected, interlude, excavated, spatial,\n",
      "Nearest to state: statutory, instigate, hsuan, edmunds, repulse, largest, anhalt, forestalled,\n",
      "Nearest to these: lines, misplaced, ethical, uses, monarchist, scholarly, long, tidy,\n",
      "Nearest to rise: manchuria, pogroms, entrants, lasalle, clarify, forbidding, novus, phyllis,\n",
      "Nearest to freedom: thackeray, grunts, mistress, noblest, brentwood, chelmno, plato, councillors,\n",
      "Nearest to square: lines, disaffection, dispatching, legislatures, wept, adverts, waterfront, phosphates,\n",
      "Nearest to institute: iraqis, remittances, mandating, masculinity, pieces, yaz, neurotransmitter, algerian,\n",
      "Nearest to behind: gba, thinking, alibi, babylonian, snubbed, reflections, freezing, alemanni,\n",
      "Nearest to troops: invade, fears, nazi, incrementally, rooftop, urbanised, idolatrous, cuzco,\n",
      "Nearest to issue: refund, qquad, catches, shortages, danelaw, garnering, public, androids,\n",
      "Nearest to numerous: ange, vehicular, mehr, alta, colonialists, nostratic, lingual, reel,\n",
      "Epoch 2/10 Iteration: 6100 Avg. Training loss: 4.4563 7.6789 sec/batch\n",
      "Epoch 2/10 Iteration: 6200 Avg. Training loss: 4.3933 4.4262 sec/batch\n",
      "Epoch 2/10 Iteration: 6300 Avg. Training loss: 4.4591 6.7809 sec/batch\n",
      "Epoch 2/10 Iteration: 6400 Avg. Training loss: 4.3775 4.3446 sec/batch\n",
      "Epoch 2/10 Iteration: 6500 Avg. Training loss: 4.3983 8.7581 sec/batch\n",
      "Epoch 2/10 Iteration: 6600 Avg. Training loss: 4.4556 4.1872 sec/batch\n",
      "Epoch 2/10 Iteration: 6700 Avg. Training loss: 4.3880 3.5012 sec/batch\n",
      "Epoch 2/10 Iteration: 6800 Avg. Training loss: 4.3819 8.8638 sec/batch\n",
      "Epoch 2/10 Iteration: 6900 Avg. Training loss: 4.4220 8.3099 sec/batch\n",
      "Epoch 2/10 Iteration: 7000 Avg. Training loss: 4.3722 5.0706 sec/batch\n",
      "Nearest to four: five, six, woolfson, mehmet, nine, unpaved, consecration, coppola,\n",
      "Nearest to were: doubts, vestments, senior, ocampo, jelena, shippers, bene, pedigree,\n",
      "Nearest to he: rabbi, gaulish, she, gabby, kinsella, lorien, zurich, exile,\n",
      "Nearest to world: intuitionism, knowles, calgary, nicola, whaling, ywca, sideshow, eero,\n",
      "Nearest to an: em, breadth, invulnerability, kraftwerk, marked, deter, findings, between,\n",
      "Nearest to many: philosophically, theocratic, litha, exists, infected, stun, patently, mlk,\n",
      "Nearest to state: statutory, instigate, hsuan, edmunds, repulse, largest, forestalled, anachronisms,\n",
      "Nearest to these: lines, ethical, misplaced, confided, uses, monarchist, scholarly, absolutely,\n",
      "Nearest to rise: manchuria, pogroms, clarify, lasalle, entrants, cravings, forbidding, novus,\n",
      "Nearest to freedom: grunts, thackeray, chelmno, noblest, brentwood, councillors, mistress, plato,\n",
      "Nearest to square: lines, disaffection, adverts, wept, photorealistic, dispatching, pacing, tilburg,\n",
      "Nearest to institute: iraqis, remittances, masculinity, mandating, pieces, algerian, yaz, suburb,\n",
      "Nearest to behind: gba, thinking, alibi, snubbed, freezing, playlist, kanaris, babylonian,\n",
      "Nearest to troops: armies, nazi, fears, cuzco, invade, rooftop, idolatrous, incrementally,\n",
      "Nearest to issue: refund, qquad, shortages, garnering, catches, danelaw, public, hardie,\n",
      "Nearest to numerous: ange, vehicular, mehr, alta, colonialists, stags, igbo, officiel,\n",
      "Epoch 2/10 Iteration: 7100 Avg. Training loss: 4.4032 8.1415 sec/batch\n",
      "Epoch 2/10 Iteration: 7200 Avg. Training loss: 4.4055 5.4439 sec/batch\n",
      "Epoch 2/10 Iteration: 7300 Avg. Training loss: 4.3476 5.5183 sec/batch\n",
      "Epoch 2/10 Iteration: 7400 Avg. Training loss: 4.3861 4.6523 sec/batch\n",
      "Epoch 2/10 Iteration: 7500 Avg. Training loss: 4.4421 4.1521 sec/batch\n",
      "Epoch 2/10 Iteration: 7600 Avg. Training loss: 4.3934 6.3236 sec/batch\n",
      "Epoch 2/10 Iteration: 7700 Avg. Training loss: 4.3642 7.6005 sec/batch\n",
      "Epoch 2/10 Iteration: 7800 Avg. Training loss: 4.3681 3.8741 sec/batch\n",
      "Epoch 2/10 Iteration: 7900 Avg. Training loss: 4.3370 8.5520 sec/batch\n",
      "Epoch 2/10 Iteration: 8000 Avg. Training loss: 4.3625 6.6298 sec/batch\n",
      "Nearest to four: five, six, nine, unpaved, woolfson, two, zero, mehmet,\n",
      "Nearest to were: doubts, senior, vestments, or, jelena, ultimately, reichstag, pedigree,\n",
      "Nearest to he: she, kinsella, gabby, gaulish, nihonshoki, lorien, nothing, zurich,\n",
      "Nearest to world: intuitionism, ywca, knowles, whaling, nicola, sideshow, calgary, itu,\n",
      "Nearest to an: em, breadth, marked, between, invulnerability, rejection, deter, ilium,\n",
      "Nearest to many: philosophically, theocratic, litha, mlk, stun, excavated, patently, touchstone,\n",
      "Nearest to state: statutory, instigate, hsuan, forestalled, largest, edmunds, repulse, dominion,\n",
      "Nearest to these: lines, ethical, monarchist, misplaced, confided, uses, agincourt, bullion,\n",
      "Nearest to rise: manchuria, lasalle, clarify, entrants, pogroms, forbidding, cravings, novus,\n",
      "Nearest to freedom: grunts, thackeray, chelmno, noblest, brentwood, identifiable, wladislaus, mistress,\n",
      "Nearest to square: lines, disaffection, photorealistic, wept, tilburg, dispatching, phosphates, donau,\n",
      "Nearest to institute: iraqis, remittances, mandating, masculinity, faculty, yaz, buckskin, pieces,\n",
      "Nearest to behind: gba, thinking, alibi, snubbed, injured, playlist, freezing, viewership,\n",
      "Nearest to troops: invade, nazi, armies, fears, cuzco, prompted, murmansk, bakunin,\n",
      "Nearest to issue: refund, qquad, danelaw, shortages, garnering, public, hardie, catches,\n",
      "Nearest to numerous: ange, vehicular, mehr, colonialists, stags, igbo, alta, answerable,\n"
     ]
    },
    {
     "name": "stdout",
     "output_type": "stream",
     "text": [
      "Epoch 2/10 Iteration: 8100 Avg. Training loss: 4.3575 9.1764 sec/batch\n",
      "Epoch 2/10 Iteration: 8200 Avg. Training loss: 4.3052 0.4929 sec/batch\n",
      "Epoch 2/10 Iteration: 8300 Avg. Training loss: 4.3734 0.4119 sec/batch\n",
      "Epoch 2/10 Iteration: 8400 Avg. Training loss: 4.3881 0.3680 sec/batch\n",
      "Epoch 2/10 Iteration: 8500 Avg. Training loss: 4.4067 0.3382 sec/batch\n",
      "Epoch 2/10 Iteration: 8600 Avg. Training loss: 4.2992 0.3653 sec/batch\n"
     ]
    },
    {
     "ename": "KeyboardInterrupt",
     "evalue": "",
     "output_type": "error",
     "traceback": [
      "\u001b[0;31m---------------------------------------------------------------------------\u001b[0m",
      "\u001b[0;31mKeyboardInterrupt\u001b[0m                         Traceback (most recent call last)",
      "\u001b[0;32m<ipython-input-15-6d252857543a>\u001b[0m in \u001b[0;36m<module>\u001b[0;34m()\u001b[0m\n\u001b[1;32m     18\u001b[0m             feed = {inputs: x,\n\u001b[1;32m     19\u001b[0m                     labels: np.array(y)[:, None]}\n\u001b[0;32m---> 20\u001b[0;31m             \u001b[0mtrain_loss\u001b[0m\u001b[0;34m,\u001b[0m \u001b[0m_\u001b[0m \u001b[0;34m=\u001b[0m \u001b[0msess\u001b[0m\u001b[0;34m.\u001b[0m\u001b[0mrun\u001b[0m\u001b[0;34m(\u001b[0m\u001b[0;34m[\u001b[0m\u001b[0mcost\u001b[0m\u001b[0;34m,\u001b[0m \u001b[0moptimizer\u001b[0m\u001b[0;34m]\u001b[0m\u001b[0;34m,\u001b[0m \u001b[0mfeed_dict\u001b[0m\u001b[0;34m=\u001b[0m\u001b[0mfeed\u001b[0m\u001b[0;34m)\u001b[0m\u001b[0;34m\u001b[0m\u001b[0m\n\u001b[0m\u001b[1;32m     21\u001b[0m \u001b[0;34m\u001b[0m\u001b[0m\n\u001b[1;32m     22\u001b[0m             \u001b[0mloss\u001b[0m \u001b[0;34m+=\u001b[0m \u001b[0mtrain_loss\u001b[0m\u001b[0;34m\u001b[0m\u001b[0m\n",
      "\u001b[0;32m~/Applications/miniconda3/envs/tensorflow/lib/python3.5/site-packages/tensorflow/python/client/session.py\u001b[0m in \u001b[0;36mrun\u001b[0;34m(self, fetches, feed_dict, options, run_metadata)\u001b[0m\n\u001b[1;32m    887\u001b[0m     \u001b[0;32mtry\u001b[0m\u001b[0;34m:\u001b[0m\u001b[0;34m\u001b[0m\u001b[0m\n\u001b[1;32m    888\u001b[0m       result = self._run(None, fetches, feed_dict, options_ptr,\n\u001b[0;32m--> 889\u001b[0;31m                          run_metadata_ptr)\n\u001b[0m\u001b[1;32m    890\u001b[0m       \u001b[0;32mif\u001b[0m \u001b[0mrun_metadata\u001b[0m\u001b[0;34m:\u001b[0m\u001b[0;34m\u001b[0m\u001b[0m\n\u001b[1;32m    891\u001b[0m         \u001b[0mproto_data\u001b[0m \u001b[0;34m=\u001b[0m \u001b[0mtf_session\u001b[0m\u001b[0;34m.\u001b[0m\u001b[0mTF_GetBuffer\u001b[0m\u001b[0;34m(\u001b[0m\u001b[0mrun_metadata_ptr\u001b[0m\u001b[0;34m)\u001b[0m\u001b[0;34m\u001b[0m\u001b[0m\n",
      "\u001b[0;32m~/Applications/miniconda3/envs/tensorflow/lib/python3.5/site-packages/tensorflow/python/client/session.py\u001b[0m in \u001b[0;36m_run\u001b[0;34m(self, handle, fetches, feed_dict, options, run_metadata)\u001b[0m\n\u001b[1;32m   1118\u001b[0m     \u001b[0;32mif\u001b[0m \u001b[0mfinal_fetches\u001b[0m \u001b[0;32mor\u001b[0m \u001b[0mfinal_targets\u001b[0m \u001b[0;32mor\u001b[0m \u001b[0;34m(\u001b[0m\u001b[0mhandle\u001b[0m \u001b[0;32mand\u001b[0m \u001b[0mfeed_dict_tensor\u001b[0m\u001b[0;34m)\u001b[0m\u001b[0;34m:\u001b[0m\u001b[0;34m\u001b[0m\u001b[0m\n\u001b[1;32m   1119\u001b[0m       results = self._do_run(handle, final_targets, final_fetches,\n\u001b[0;32m-> 1120\u001b[0;31m                              feed_dict_tensor, options, run_metadata)\n\u001b[0m\u001b[1;32m   1121\u001b[0m     \u001b[0;32melse\u001b[0m\u001b[0;34m:\u001b[0m\u001b[0;34m\u001b[0m\u001b[0m\n\u001b[1;32m   1122\u001b[0m       \u001b[0mresults\u001b[0m \u001b[0;34m=\u001b[0m \u001b[0;34m[\u001b[0m\u001b[0;34m]\u001b[0m\u001b[0;34m\u001b[0m\u001b[0m\n",
      "\u001b[0;32m~/Applications/miniconda3/envs/tensorflow/lib/python3.5/site-packages/tensorflow/python/client/session.py\u001b[0m in \u001b[0;36m_do_run\u001b[0;34m(self, handle, target_list, fetch_list, feed_dict, options, run_metadata)\u001b[0m\n\u001b[1;32m   1315\u001b[0m     \u001b[0;32mif\u001b[0m \u001b[0mhandle\u001b[0m \u001b[0;32mis\u001b[0m \u001b[0;32mNone\u001b[0m\u001b[0;34m:\u001b[0m\u001b[0;34m\u001b[0m\u001b[0m\n\u001b[1;32m   1316\u001b[0m       return self._do_call(_run_fn, self._session, feeds, fetches, targets,\n\u001b[0;32m-> 1317\u001b[0;31m                            options, run_metadata)\n\u001b[0m\u001b[1;32m   1318\u001b[0m     \u001b[0;32melse\u001b[0m\u001b[0;34m:\u001b[0m\u001b[0;34m\u001b[0m\u001b[0m\n\u001b[1;32m   1319\u001b[0m       \u001b[0;32mreturn\u001b[0m \u001b[0mself\u001b[0m\u001b[0;34m.\u001b[0m\u001b[0m_do_call\u001b[0m\u001b[0;34m(\u001b[0m\u001b[0m_prun_fn\u001b[0m\u001b[0;34m,\u001b[0m \u001b[0mself\u001b[0m\u001b[0;34m.\u001b[0m\u001b[0m_session\u001b[0m\u001b[0;34m,\u001b[0m \u001b[0mhandle\u001b[0m\u001b[0;34m,\u001b[0m \u001b[0mfeeds\u001b[0m\u001b[0;34m,\u001b[0m \u001b[0mfetches\u001b[0m\u001b[0;34m)\u001b[0m\u001b[0;34m\u001b[0m\u001b[0m\n",
      "\u001b[0;32m~/Applications/miniconda3/envs/tensorflow/lib/python3.5/site-packages/tensorflow/python/client/session.py\u001b[0m in \u001b[0;36m_do_call\u001b[0;34m(self, fn, *args)\u001b[0m\n\u001b[1;32m   1321\u001b[0m   \u001b[0;32mdef\u001b[0m \u001b[0m_do_call\u001b[0m\u001b[0;34m(\u001b[0m\u001b[0mself\u001b[0m\u001b[0;34m,\u001b[0m \u001b[0mfn\u001b[0m\u001b[0;34m,\u001b[0m \u001b[0;34m*\u001b[0m\u001b[0margs\u001b[0m\u001b[0;34m)\u001b[0m\u001b[0;34m:\u001b[0m\u001b[0;34m\u001b[0m\u001b[0m\n\u001b[1;32m   1322\u001b[0m     \u001b[0;32mtry\u001b[0m\u001b[0;34m:\u001b[0m\u001b[0;34m\u001b[0m\u001b[0m\n\u001b[0;32m-> 1323\u001b[0;31m       \u001b[0;32mreturn\u001b[0m \u001b[0mfn\u001b[0m\u001b[0;34m(\u001b[0m\u001b[0;34m*\u001b[0m\u001b[0margs\u001b[0m\u001b[0;34m)\u001b[0m\u001b[0;34m\u001b[0m\u001b[0m\n\u001b[0m\u001b[1;32m   1324\u001b[0m     \u001b[0;32mexcept\u001b[0m \u001b[0merrors\u001b[0m\u001b[0;34m.\u001b[0m\u001b[0mOpError\u001b[0m \u001b[0;32mas\u001b[0m \u001b[0me\u001b[0m\u001b[0;34m:\u001b[0m\u001b[0;34m\u001b[0m\u001b[0m\n\u001b[1;32m   1325\u001b[0m       \u001b[0mmessage\u001b[0m \u001b[0;34m=\u001b[0m \u001b[0mcompat\u001b[0m\u001b[0;34m.\u001b[0m\u001b[0mas_text\u001b[0m\u001b[0;34m(\u001b[0m\u001b[0me\u001b[0m\u001b[0;34m.\u001b[0m\u001b[0mmessage\u001b[0m\u001b[0;34m)\u001b[0m\u001b[0;34m\u001b[0m\u001b[0m\n",
      "\u001b[0;32m~/Applications/miniconda3/envs/tensorflow/lib/python3.5/site-packages/tensorflow/python/client/session.py\u001b[0m in \u001b[0;36m_run_fn\u001b[0;34m(session, feed_dict, fetch_list, target_list, options, run_metadata)\u001b[0m\n\u001b[1;32m   1300\u001b[0m           return tf_session.TF_Run(session, options,\n\u001b[1;32m   1301\u001b[0m                                    \u001b[0mfeed_dict\u001b[0m\u001b[0;34m,\u001b[0m \u001b[0mfetch_list\u001b[0m\u001b[0;34m,\u001b[0m \u001b[0mtarget_list\u001b[0m\u001b[0;34m,\u001b[0m\u001b[0;34m\u001b[0m\u001b[0m\n\u001b[0;32m-> 1302\u001b[0;31m                                    status, run_metadata)\n\u001b[0m\u001b[1;32m   1303\u001b[0m \u001b[0;34m\u001b[0m\u001b[0m\n\u001b[1;32m   1304\u001b[0m     \u001b[0;32mdef\u001b[0m \u001b[0m_prun_fn\u001b[0m\u001b[0;34m(\u001b[0m\u001b[0msession\u001b[0m\u001b[0;34m,\u001b[0m \u001b[0mhandle\u001b[0m\u001b[0;34m,\u001b[0m \u001b[0mfeed_dict\u001b[0m\u001b[0;34m,\u001b[0m \u001b[0mfetch_list\u001b[0m\u001b[0;34m)\u001b[0m\u001b[0;34m:\u001b[0m\u001b[0;34m\u001b[0m\u001b[0m\n",
      "\u001b[0;31mKeyboardInterrupt\u001b[0m: "
     ]
    }
   ],
   "source": [
    "epochs = 10\n",
    "batch_size = 1000\n",
    "window_size = 10\n",
    "\n",
    "with train_graph.as_default():\n",
    "    saver = tf.train.Saver()\n",
    "\n",
    "with tf.Session(graph=train_graph) as sess:\n",
    "    iteration = 1\n",
    "    loss = 0\n",
    "    sess.run(tf.global_variables_initializer())\n",
    "\n",
    "    for e in range(1, epochs+1):\n",
    "        batches = get_batches(train_words, batch_size, window_size)\n",
    "        start = time.time()\n",
    "        for x, y in batches:\n",
    "            \n",
    "            feed = {inputs: x,\n",
    "                    labels: np.array(y)[:, None]}\n",
    "            train_loss, _ = sess.run([cost, optimizer], feed_dict=feed)\n",
    "            \n",
    "            loss += train_loss\n",
    "            \n",
    "            if iteration % 100 == 0: \n",
    "                end = time.time()\n",
    "                print(\"Epoch {}/{}\".format(e, epochs),\n",
    "                      \"Iteration: {}\".format(iteration),\n",
    "                      \"Avg. Training loss: {:.4f}\".format(loss/100),\n",
    "                      \"{:.4f} sec/batch\".format((end-start)/100))\n",
    "                loss = 0\n",
    "                start = time.time()\n",
    "            \n",
    "            if iteration % 1000 == 0:\n",
    "                ## From Thushan Ganegedara's implementation\n",
    "                # note that this is expensive (~20% slowdown if computed every 500 steps)\n",
    "                sim = similarity.eval()\n",
    "                for i in range(valid_size):\n",
    "                    valid_word = int_to_vocab[valid_examples[i]]\n",
    "                    top_k = 8 # number of nearest neighbors\n",
    "                    nearest = (-sim[i, :]).argsort()[1:top_k+1]\n",
    "                    log = 'Nearest to %s:' % valid_word\n",
    "                    for k in range(top_k):\n",
    "                        close_word = int_to_vocab[nearest[k]]\n",
    "                        log = '%s %s,' % (log, close_word)\n",
    "                    print(log)\n",
    "            \n",
    "            iteration += 1\n",
    "    save_path = saver.save(sess, \"checkpoints/text8.ckpt\")\n",
    "    embed_mat = sess.run(normalized_embedding)"
   ]
  },
  {
   "cell_type": "markdown",
   "metadata": {},
   "source": [
    "Restore the trained network if you need to:"
   ]
  },
  {
   "cell_type": "code",
   "execution_count": 16,
   "metadata": {},
   "outputs": [
    {
     "ename": "ValueError",
     "evalue": "Can't load save_path when it is None.",
     "output_type": "error",
     "traceback": [
      "\u001b[0;31m---------------------------------------------------------------------------\u001b[0m",
      "\u001b[0;31mValueError\u001b[0m                                Traceback (most recent call last)",
      "\u001b[0;32m<ipython-input-16-0dcc3806116a>\u001b[0m in \u001b[0;36m<module>\u001b[0;34m()\u001b[0m\n\u001b[1;32m      3\u001b[0m \u001b[0;34m\u001b[0m\u001b[0m\n\u001b[1;32m      4\u001b[0m \u001b[0;32mwith\u001b[0m \u001b[0mtf\u001b[0m\u001b[0;34m.\u001b[0m\u001b[0mSession\u001b[0m\u001b[0;34m(\u001b[0m\u001b[0mgraph\u001b[0m\u001b[0;34m=\u001b[0m\u001b[0mtrain_graph\u001b[0m\u001b[0;34m)\u001b[0m \u001b[0;32mas\u001b[0m \u001b[0msess\u001b[0m\u001b[0;34m:\u001b[0m\u001b[0;34m\u001b[0m\u001b[0m\n\u001b[0;32m----> 5\u001b[0;31m     \u001b[0msaver\u001b[0m\u001b[0;34m.\u001b[0m\u001b[0mrestore\u001b[0m\u001b[0;34m(\u001b[0m\u001b[0msess\u001b[0m\u001b[0;34m,\u001b[0m \u001b[0mtf\u001b[0m\u001b[0;34m.\u001b[0m\u001b[0mtrain\u001b[0m\u001b[0;34m.\u001b[0m\u001b[0mlatest_checkpoint\u001b[0m\u001b[0;34m(\u001b[0m\u001b[0;34m'checkpoints'\u001b[0m\u001b[0;34m)\u001b[0m\u001b[0;34m)\u001b[0m\u001b[0;34m\u001b[0m\u001b[0m\n\u001b[0m\u001b[1;32m      6\u001b[0m     \u001b[0membed_mat\u001b[0m \u001b[0;34m=\u001b[0m \u001b[0msess\u001b[0m\u001b[0;34m.\u001b[0m\u001b[0mrun\u001b[0m\u001b[0;34m(\u001b[0m\u001b[0membedding\u001b[0m\u001b[0;34m)\u001b[0m\u001b[0;34m\u001b[0m\u001b[0m\n",
      "\u001b[0;32m~/Applications/miniconda3/envs/tensorflow/lib/python3.5/site-packages/tensorflow/python/training/saver.py\u001b[0m in \u001b[0;36mrestore\u001b[0;34m(self, sess, save_path)\u001b[0m\n\u001b[1;32m   1660\u001b[0m       \u001b[0;32mreturn\u001b[0m\u001b[0;34m\u001b[0m\u001b[0m\n\u001b[1;32m   1661\u001b[0m     \u001b[0;32mif\u001b[0m \u001b[0msave_path\u001b[0m \u001b[0;32mis\u001b[0m \u001b[0;32mNone\u001b[0m\u001b[0;34m:\u001b[0m\u001b[0;34m\u001b[0m\u001b[0m\n\u001b[0;32m-> 1662\u001b[0;31m       \u001b[0;32mraise\u001b[0m \u001b[0mValueError\u001b[0m\u001b[0;34m(\u001b[0m\u001b[0;34m\"Can't load save_path when it is None.\"\u001b[0m\u001b[0;34m)\u001b[0m\u001b[0;34m\u001b[0m\u001b[0m\n\u001b[0m\u001b[1;32m   1663\u001b[0m     \u001b[0mlogging\u001b[0m\u001b[0;34m.\u001b[0m\u001b[0minfo\u001b[0m\u001b[0;34m(\u001b[0m\u001b[0;34m\"Restoring parameters from %s\"\u001b[0m\u001b[0;34m,\u001b[0m \u001b[0msave_path\u001b[0m\u001b[0;34m)\u001b[0m\u001b[0;34m\u001b[0m\u001b[0m\n\u001b[1;32m   1664\u001b[0m     \u001b[0;32mif\u001b[0m \u001b[0mcontext\u001b[0m\u001b[0;34m.\u001b[0m\u001b[0min_graph_mode\u001b[0m\u001b[0;34m(\u001b[0m\u001b[0;34m)\u001b[0m\u001b[0;34m:\u001b[0m\u001b[0;34m\u001b[0m\u001b[0m\n",
      "\u001b[0;31mValueError\u001b[0m: Can't load save_path when it is None."
     ]
    }
   ],
   "source": [
    "with train_graph.as_default():\n",
    "    saver = tf.train.Saver()\n",
    "\n",
    "with tf.Session(graph=train_graph) as sess:\n",
    "    saver.restore(sess, tf.train.latest_checkpoint('checkpoints'))\n",
    "    embed_mat = sess.run(embedding)"
   ]
  },
  {
   "cell_type": "markdown",
   "metadata": {},
   "source": [
    "## Visualizing the word vectors\n",
    "\n",
    "Below we'll use T-SNE to visualize how our high-dimensional word vectors cluster together. T-SNE is used to project these vectors into two dimensions while preserving local stucture. Check out [this post from Christopher Olah](http://colah.github.io/posts/2014-10-Visualizing-MNIST/) to learn more about T-SNE and other ways to visualize high-dimensional data."
   ]
  },
  {
   "cell_type": "code",
   "execution_count": null,
   "metadata": {},
   "outputs": [],
   "source": [
    "%matplotlib inline\n",
    "%config InlineBackend.figure_format = 'retina'\n",
    "\n",
    "import matplotlib.pyplot as plt\n",
    "from sklearn.manifold import TSNE"
   ]
  },
  {
   "cell_type": "code",
   "execution_count": null,
   "metadata": {},
   "outputs": [],
   "source": [
    "viz_words = 500\n",
    "tsne = TSNE()\n",
    "embed_tsne = tsne.fit_transform(embed_mat[:viz_words, :])"
   ]
  },
  {
   "cell_type": "code",
   "execution_count": null,
   "metadata": {},
   "outputs": [],
   "source": [
    "fig, ax = plt.subplots(figsize=(14, 14))\n",
    "for idx in range(viz_words):\n",
    "    plt.scatter(*embed_tsne[idx, :], color='steelblue')\n",
    "    plt.annotate(int_to_vocab[idx], (embed_tsne[idx, 0], embed_tsne[idx, 1]), alpha=0.7)"
   ]
  }
 ],
 "metadata": {
  "kernelspec": {
   "display_name": "Python 3",
   "language": "python",
   "name": "python3"
  },
  "language_info": {
   "codemirror_mode": {
    "name": "ipython",
    "version": 3
   },
   "file_extension": ".py",
   "mimetype": "text/x-python",
   "name": "python",
   "nbconvert_exporter": "python",
   "pygments_lexer": "ipython3",
   "version": "3.5.4"
  }
 },
 "nbformat": 4,
 "nbformat_minor": 2
}
